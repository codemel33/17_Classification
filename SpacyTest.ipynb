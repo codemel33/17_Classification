{
  "nbformat": 4,
  "nbformat_minor": 0,
  "metadata": {
    "kernelspec": {
      "display_name": "Python 3",
      "language": "python",
      "name": "python3"
    },
    "language_info": {
      "codemirror_mode": {
        "name": "ipython",
        "version": 3
      },
      "file_extension": ".py",
      "mimetype": "text/x-python",
      "name": "python",
      "nbconvert_exporter": "python",
      "pygments_lexer": "ipython3",
      "version": "3.7.6"
    },
    "colab": {
      "name": "SpacyTest.ipynb",
      "provenance": [],
      "include_colab_link": true
    }
  },
  "cells": [
    {
      "cell_type": "markdown",
      "metadata": {
        "id": "view-in-github",
        "colab_type": "text"
      },
      "source": [
        "<a href=\"https://colab.research.google.com/github/codemel33/17_Classification/blob/master/SpacyTest.ipynb\" target=\"_parent\"><img src=\"https://colab.research.google.com/assets/colab-badge.svg\" alt=\"Open In Colab\"/></a>"
      ]
    },
    {
      "cell_type": "code",
      "metadata": {
        "id": "wWFy6BmlFiAY",
        "colab_type": "code",
        "colab": {}
      },
      "source": [
        "###Topic Classifier Test with Spacy "
      ],
      "execution_count": 0,
      "outputs": []
    },
    {
      "cell_type": "code",
      "metadata": {
        "id": "7lKLC2Z-FiAb",
        "colab_type": "code",
        "colab": {}
      },
      "source": [
        "##Section A : Tokenizing "
      ],
      "execution_count": 0,
      "outputs": []
    },
    {
      "cell_type": "code",
      "metadata": {
        "id": "zsWIRZgaFiAe",
        "colab_type": "code",
        "colab": {}
      },
      "source": [
        "#word tekenizer "
      ],
      "execution_count": 0,
      "outputs": []
    },
    {
      "cell_type": "code",
      "metadata": {
        "id": "lENFFRxiFiAg",
        "colab_type": "code",
        "colab": {}
      },
      "source": [
        "###Note - In order to install spacy open your navigator as Admin"
      ],
      "execution_count": 0,
      "outputs": []
    },
    {
      "cell_type": "code",
      "metadata": {
        "id": "UrK9mxsMFiAi",
        "colab_type": "code",
        "colab": {},
        "outputId": "b8f6dab6-9309-4e15-f37b-51349e0a7898"
      },
      "source": [
        "!python -m spacy download en"
      ],
      "execution_count": 0,
      "outputs": [
        {
          "output_type": "stream",
          "text": [
            "Requirement already satisfied: en_core_web_sm==2.0.0 from https://github.com/explosion/spacy-models/releases/download/en_core_web_sm-2.0.0/en_core_web_sm-2.0.0.tar.gz#egg=en_core_web_sm==2.0.0 in c:\\users\\melco\\anaconda3\\envs\\mlpython\\lib\\site-packages (2.0.0)\n",
            "\n",
            "\u001b[93m    Linking successful\u001b[0m\n",
            "    C:\\Users\\melco\\Anaconda3\\envs\\MLPython\\lib\\site-packages\\en_core_web_sm\n",
            "    -->\n",
            "    C:\\Users\\melco\\Anaconda3\\envs\\MLPython\\lib\\site-packages\\spacy\\data\\en\n",
            "\n",
            "    You can now load the model via spacy.load('en')\n",
            "\n"
          ],
          "name": "stdout"
        }
      ]
    },
    {
      "cell_type": "code",
      "metadata": {
        "id": "1RHf7EbDFiAk",
        "colab_type": "code",
        "colab": {}
      },
      "source": [
        "from spacy.lang.en import English "
      ],
      "execution_count": 0,
      "outputs": []
    },
    {
      "cell_type": "code",
      "metadata": {
        "id": "3mxS6N6fFiAm",
        "colab_type": "code",
        "colab": {}
      },
      "source": [
        "#Load English Tokenizer , Tagger, Parser , NER and word vectors"
      ],
      "execution_count": 0,
      "outputs": []
    },
    {
      "cell_type": "code",
      "metadata": {
        "id": "at9eRsuaFiAp",
        "colab_type": "code",
        "colab": {}
      },
      "source": [
        "nlp = English()"
      ],
      "execution_count": 0,
      "outputs": []
    },
    {
      "cell_type": "code",
      "metadata": {
        "id": "Iv6H79_uFiAq",
        "colab_type": "code",
        "colab": {}
      },
      "source": [
        "text = \"\"\"When learning data science, you shouldn't get discouraged! Challenges and setbacks aren't failures, they're just part of the journey. You've got this!\"\"\""
      ],
      "execution_count": 0,
      "outputs": []
    },
    {
      "cell_type": "code",
      "metadata": {
        "id": "72QnlW7-FiAs",
        "colab_type": "code",
        "colab": {}
      },
      "source": [
        "###Use an \"nlp\" object to create documents with linguistic annotations."
      ],
      "execution_count": 0,
      "outputs": []
    },
    {
      "cell_type": "code",
      "metadata": {
        "id": "3OvclTraFiAu",
        "colab_type": "code",
        "colab": {}
      },
      "source": [
        "my_doc=nlp(text)"
      ],
      "execution_count": 0,
      "outputs": []
    },
    {
      "cell_type": "code",
      "metadata": {
        "id": "QjfIr3YwFiAw",
        "colab_type": "code",
        "colab": {}
      },
      "source": [
        "##create a list of word tokens "
      ],
      "execution_count": 0,
      "outputs": []
    },
    {
      "cell_type": "code",
      "metadata": {
        "id": "Q_K__dtzFiAz",
        "colab_type": "code",
        "colab": {},
        "outputId": "098e396d-489f-43ca-a7b7-406a7a104383"
      },
      "source": [
        "token_list=[]\n",
        "for token in my_doc:\n",
        "    token_list.append(token.text)\n",
        "print(token_list)    "
      ],
      "execution_count": 0,
      "outputs": [
        {
          "output_type": "stream",
          "text": [
            "['When', 'learning', 'data', 'science', ',', 'you', 'should', \"n't\", 'get', 'discouraged', '!', 'Challenges', 'and', 'setbacks', 'are', \"n't\", 'failures', ',', 'they', \"'re\", 'just', 'part', 'of', 'the', 'journey', '.', 'You', \"'ve\", 'got', 'this', '!']\n"
          ],
          "name": "stdout"
        }
      ]
    },
    {
      "cell_type": "code",
      "metadata": {
        "id": "V6P8lQnPFiA0",
        "colab_type": "code",
        "colab": {}
      },
      "source": [
        "##sentence tokenization "
      ],
      "execution_count": 0,
      "outputs": []
    },
    {
      "cell_type": "code",
      "metadata": {
        "id": "RIVgXphYFiA2",
        "colab_type": "code",
        "colab": {}
      },
      "source": [
        "#Load english tokenizer, tagger, parser, NER and word vectors"
      ],
      "execution_count": 0,
      "outputs": []
    },
    {
      "cell_type": "code",
      "metadata": {
        "id": "e-Ky9CrTFiA4",
        "colab_type": "code",
        "colab": {}
      },
      "source": [
        "nlp=English()"
      ],
      "execution_count": 0,
      "outputs": []
    },
    {
      "cell_type": "code",
      "metadata": {
        "id": "l9d0O0ZJFiA5",
        "colab_type": "code",
        "colab": {}
      },
      "source": [
        "#create the pipeline sentencizer component"
      ],
      "execution_count": 0,
      "outputs": []
    },
    {
      "cell_type": "code",
      "metadata": {
        "id": "JOwicn8YFiA-",
        "colab_type": "code",
        "colab": {}
      },
      "source": [
        "sbd=nlp.create_pipe('sentencizer')"
      ],
      "execution_count": 0,
      "outputs": []
    },
    {
      "cell_type": "code",
      "metadata": {
        "id": "806MWlMyFiBA",
        "colab_type": "code",
        "colab": {}
      },
      "source": [
        "#Add component to the pipeline"
      ],
      "execution_count": 0,
      "outputs": []
    },
    {
      "cell_type": "code",
      "metadata": {
        "id": "ZL1P7d1eFiBB",
        "colab_type": "code",
        "colab": {}
      },
      "source": [
        "nlp.add_pipe(sbd)"
      ],
      "execution_count": 0,
      "outputs": []
    },
    {
      "cell_type": "code",
      "metadata": {
        "id": "IJC73UYJFiBD",
        "colab_type": "code",
        "colab": {}
      },
      "source": [
        "text=\"\"\"When learning data science, you shouldn't get discouraged! Challenges and setbacks aren't failures, they're just part of the journey. You've got this!\"\"\""
      ],
      "execution_count": 0,
      "outputs": []
    },
    {
      "cell_type": "code",
      "metadata": {
        "id": "Lok9erm4FiBE",
        "colab_type": "code",
        "colab": {}
      },
      "source": [
        "#nlp object is used to create documents with linguistic annotations"
      ],
      "execution_count": 0,
      "outputs": []
    },
    {
      "cell_type": "code",
      "metadata": {
        "id": "Ar8ryYuIFiBG",
        "colab_type": "code",
        "colab": {}
      },
      "source": [
        "doc=nlp(text)"
      ],
      "execution_count": 0,
      "outputs": []
    },
    {
      "cell_type": "code",
      "metadata": {
        "id": "beVgUO1XFiBH",
        "colab_type": "code",
        "colab": {}
      },
      "source": [
        "#create a list of sentence tokens "
      ],
      "execution_count": 0,
      "outputs": []
    },
    {
      "cell_type": "code",
      "metadata": {
        "id": "xtqrFWnsFiBJ",
        "colab_type": "code",
        "colab": {},
        "outputId": "7798c174-f1a9-43f3-b8c6-59f4fc06c8e3"
      },
      "source": [
        "sents_list=[]\n",
        "for sent in doc.sents:\n",
        "    sents_list.append(sent.text)\n",
        "    print(sents_list)"
      ],
      "execution_count": 0,
      "outputs": [
        {
          "output_type": "stream",
          "text": [
            "[\"When learning data science, you shouldn't get discouraged!\"]\n",
            "[\"When learning data science, you shouldn't get discouraged!\", \"Challenges and setbacks aren't failures, they're just part of the journey.\"]\n",
            "[\"When learning data science, you shouldn't get discouraged!\", \"Challenges and setbacks aren't failures, they're just part of the journey.\", \"You've got this!\"]\n"
          ],
          "name": "stdout"
        }
      ]
    },
    {
      "cell_type": "code",
      "metadata": {
        "id": "MHZoeXGJFiBM",
        "colab_type": "code",
        "colab": {}
      },
      "source": [
        "###Section B : Cleaning Text Data "
      ],
      "execution_count": 0,
      "outputs": []
    },
    {
      "cell_type": "code",
      "metadata": {
        "id": "q5RkXLTgFiBO",
        "colab_type": "code",
        "colab": {}
      },
      "source": [
        "## Removing Stop Words "
      ],
      "execution_count": 0,
      "outputs": []
    },
    {
      "cell_type": "code",
      "metadata": {
        "id": "Wd4IpJXaFiBP",
        "colab_type": "code",
        "colab": {}
      },
      "source": [
        "##Importing sstop woords from English Language"
      ],
      "execution_count": 0,
      "outputs": []
    },
    {
      "cell_type": "code",
      "metadata": {
        "id": "eqVeV-CtFiBR",
        "colab_type": "code",
        "colab": {}
      },
      "source": [
        "import spacy\n",
        "spacy_stopwords = spacy.lang.en.stop_words.STOP_WORDS"
      ],
      "execution_count": 0,
      "outputs": []
    },
    {
      "cell_type": "code",
      "metadata": {
        "id": "7UwCakvpFiBS",
        "colab_type": "code",
        "colab": {}
      },
      "source": [
        "###Printing the total number of stop words"
      ],
      "execution_count": 0,
      "outputs": []
    },
    {
      "cell_type": "code",
      "metadata": {
        "id": "X8AA0c_KFiBU",
        "colab_type": "code",
        "colab": {},
        "outputId": "67ac5c91-50d1-467a-833e-9e59320c6163"
      },
      "source": [
        "print('Number of stop words: %d' %len(spacy_stopwords))"
      ],
      "execution_count": 0,
      "outputs": [
        {
          "output_type": "stream",
          "text": [
            "Number of stop words: 305\n"
          ],
          "name": "stdout"
        }
      ]
    },
    {
      "cell_type": "code",
      "metadata": {
        "id": "2MYn5nc5FiBW",
        "colab_type": "code",
        "colab": {}
      },
      "source": [
        "###Printing first top ten stop words"
      ],
      "execution_count": 0,
      "outputs": []
    },
    {
      "cell_type": "code",
      "metadata": {
        "id": "3klYgL1hFiBY",
        "colab_type": "code",
        "colab": {},
        "outputId": "400dd0bf-ffc4-4d97-d29e-0897f617e5b0"
      },
      "source": [
        "print('First ten stop words: %s' % list(spacy_stopwords)[:20])"
      ],
      "execution_count": 0,
      "outputs": [
        {
          "output_type": "stream",
          "text": [
            "First ten stop words: ['such', 'whatever', 'should', 'therefore', 'have', 'get', 'thru', 'various', 'whence', 'used', 'per', 'due', 'thence', 'hereafter', 'which', 'is', 'just', 'mostly', 'nine', 'anyone']\n"
          ],
          "name": "stdout"
        }
      ]
    },
    {
      "cell_type": "code",
      "metadata": {
        "id": "I5qwvCBlFiBZ",
        "colab_type": "code",
        "colab": {}
      },
      "source": [
        "###Removing Stop Words from our data "
      ],
      "execution_count": 0,
      "outputs": []
    },
    {
      "cell_type": "code",
      "metadata": {
        "id": "FZQxBCeqFiBb",
        "colab_type": "code",
        "colab": {}
      },
      "source": [
        "from spacy.lang.en.stop_words import STOP_WORDS"
      ],
      "execution_count": 0,
      "outputs": []
    },
    {
      "cell_type": "code",
      "metadata": {
        "id": "WXgm1NpcFiBc",
        "colab_type": "code",
        "colab": {}
      },
      "source": [
        "##Implementation of stop words "
      ],
      "execution_count": 0,
      "outputs": []
    },
    {
      "cell_type": "code",
      "metadata": {
        "id": "K__3Ne-WFiBe",
        "colab_type": "code",
        "colab": {}
      },
      "source": [
        "filtered_sent=[]"
      ],
      "execution_count": 0,
      "outputs": []
    },
    {
      "cell_type": "code",
      "metadata": {
        "id": "klIi6xIwFiBg",
        "colab_type": "code",
        "colab": {}
      },
      "source": [
        "#use 'nlp' object to create documents with linguistic annotations"
      ],
      "execution_count": 0,
      "outputs": []
    },
    {
      "cell_type": "code",
      "metadata": {
        "id": "hQpuyGFfFiBh",
        "colab_type": "code",
        "colab": {}
      },
      "source": [
        "doc=nlp(text)"
      ],
      "execution_count": 0,
      "outputs": []
    },
    {
      "cell_type": "code",
      "metadata": {
        "id": "C6nxX6i_FiBk",
        "colab_type": "code",
        "colab": {}
      },
      "source": [
        "##Filtering stop words"
      ],
      "execution_count": 0,
      "outputs": []
    },
    {
      "cell_type": "code",
      "metadata": {
        "id": "KM5NZRR6FiBl",
        "colab_type": "code",
        "colab": {},
        "outputId": "597057a8-b406-401f-ab41-e037ad3e804e"
      },
      "source": [
        "for word in doc:\n",
        "   if word.is_stop==False:\n",
        "    filtered_sent.append(word)\n",
        "print(\"Filtered Sentence:\",filtered_sent)"
      ],
      "execution_count": 0,
      "outputs": [
        {
          "output_type": "stream",
          "text": [
            "Filtered Sentence: [When, learning, data, science, ,, n't, discouraged, !, Challenges, setbacks, n't, failures, ,, 're, journey, ., You, 've, got, !]\n"
          ],
          "name": "stdout"
        }
      ]
    },
    {
      "cell_type": "code",
      "metadata": {
        "id": "Y06VqMajFiBn",
        "colab_type": "code",
        "colab": {}
      },
      "source": [
        "###Lexicom Normalization "
      ],
      "execution_count": 0,
      "outputs": []
    },
    {
      "cell_type": "code",
      "metadata": {
        "id": "MOoc8EgsFiBo",
        "colab_type": "code",
        "colab": {}
      },
      "source": [
        "###Processing words in order to reduce them to their roots"
      ],
      "execution_count": 0,
      "outputs": []
    },
    {
      "cell_type": "code",
      "metadata": {
        "id": "G2PoME6CFiBq",
        "colab_type": "code",
        "colab": {}
      },
      "source": [
        "#Lemmatization "
      ],
      "execution_count": 0,
      "outputs": []
    },
    {
      "cell_type": "code",
      "metadata": {
        "id": "9P-c9Xk5FiBs",
        "colab_type": "code",
        "colab": {}
      },
      "source": [
        "###Stemming - looping off easily identified prefixes and suffixes to produce the simplest version of a word "
      ],
      "execution_count": 0,
      "outputs": []
    },
    {
      "cell_type": "code",
      "metadata": {
        "id": "3ejbOqXoFiBu",
        "colab_type": "code",
        "colab": {}
      },
      "source": [
        "## Implementing Lemmatization "
      ],
      "execution_count": 0,
      "outputs": []
    },
    {
      "cell_type": "code",
      "metadata": {
        "id": "9MMzNGaHFiBw",
        "colab_type": "code",
        "colab": {}
      },
      "source": [
        "lem = nlp(\"run runs running runner\")"
      ],
      "execution_count": 0,
      "outputs": []
    },
    {
      "cell_type": "code",
      "metadata": {
        "id": "5ljY-me7FiBx",
        "colab_type": "code",
        "colab": {}
      },
      "source": [
        "#finding lemma for each word "
      ],
      "execution_count": 0,
      "outputs": []
    },
    {
      "cell_type": "code",
      "metadata": {
        "id": "S_iznwPOFiBz",
        "colab_type": "code",
        "colab": {},
        "outputId": "321cb4d4-39d0-4600-93ec-15b8fda06175"
      },
      "source": [
        "for word in lem:\n",
        "    print(word.text,word.lemma_)"
      ],
      "execution_count": 0,
      "outputs": [
        {
          "output_type": "stream",
          "text": [
            "run run\n",
            "runs run\n",
            "running run\n",
            "runner runner\n"
          ],
          "name": "stdout"
        }
      ]
    },
    {
      "cell_type": "code",
      "metadata": {
        "id": "CqCDFmt-FiB0",
        "colab_type": "code",
        "colab": {}
      },
      "source": [
        "###Part of Speech (POS) Tagging "
      ],
      "execution_count": 0,
      "outputs": []
    },
    {
      "cell_type": "code",
      "metadata": {
        "id": "tw9vLj7yFiB1",
        "colab_type": "code",
        "colab": {}
      },
      "source": [
        "# importing the model en_core_web_sm of English for vocabulary, syntax & entities"
      ],
      "execution_count": 0,
      "outputs": []
    },
    {
      "cell_type": "code",
      "metadata": {
        "id": "QVQzwPa8FiB2",
        "colab_type": "code",
        "colab": {}
      },
      "source": [
        "import en_core_web_sm"
      ],
      "execution_count": 0,
      "outputs": []
    },
    {
      "cell_type": "code",
      "metadata": {
        "id": "pr4LoZ4eFiB5",
        "colab_type": "code",
        "colab": {}
      },
      "source": [
        "#load en_core_web_sm of English for vocabulary , syntax & entities "
      ],
      "execution_count": 0,
      "outputs": []
    },
    {
      "cell_type": "code",
      "metadata": {
        "id": "cX9KVzQ3FiB8",
        "colab_type": "code",
        "colab": {}
      },
      "source": [
        "nlp = en_core_web_sm.load()"
      ],
      "execution_count": 0,
      "outputs": []
    },
    {
      "cell_type": "code",
      "metadata": {
        "id": "RmWvTno0FiB-",
        "colab_type": "code",
        "colab": {}
      },
      "source": [
        "#\"nlp\" object is used to create documents with linguistic annotations"
      ],
      "execution_count": 0,
      "outputs": []
    },
    {
      "cell_type": "code",
      "metadata": {
        "id": "3mNObMArFiB_",
        "colab_type": "code",
        "colab": {}
      },
      "source": [
        "docs = nlp(u\"All is well that ends well.\")"
      ],
      "execution_count": 0,
      "outputs": []
    },
    {
      "cell_type": "code",
      "metadata": {
        "id": "aRn7sLmpFiCC",
        "colab_type": "code",
        "colab": {},
        "outputId": "74e33e12-2cac-4ae1-cbc1-9939fa489369"
      },
      "source": [
        "for word in docs:\n",
        "    print(word.text,word.pos_)"
      ],
      "execution_count": 0,
      "outputs": [
        {
          "output_type": "stream",
          "text": [
            "All DET\n",
            "is VERB\n",
            "well ADV\n",
            "that ADJ\n",
            "ends VERB\n",
            "well ADV\n",
            ". PUNCT\n"
          ],
          "name": "stdout"
        }
      ]
    },
    {
      "cell_type": "code",
      "metadata": {
        "id": "Iui80xm5FiCD",
        "colab_type": "code",
        "colab": {}
      },
      "source": [
        "#### Entity Detection - identifies  important elements like places , people, organizations and languages"
      ],
      "execution_count": 0,
      "outputs": []
    },
    {
      "cell_type": "code",
      "metadata": {
        "id": "QjsuI2hWFiCF",
        "colab_type": "code",
        "colab": {}
      },
      "source": [
        "from spacy import displacy "
      ],
      "execution_count": 0,
      "outputs": []
    },
    {
      "cell_type": "code",
      "metadata": {
        "id": "I5IwgW9MFiCG",
        "colab_type": "code",
        "colab": {}
      },
      "source": [
        "nytimes= nlp(u\"\"\"New York City on Tuesday declared a public health emergency and ordered mandatory measles vaccinations amid an outbreak, becoming the latest national flash point over refusals to inoculate against dangerous diseases. At least 285 people have contracted measles in the city since September, mostly in Brooklyn’s Williamsburg neighborhood. The order covers four Zip codes there, Mayor Bill de Blasio (D) said Tuesday. The mandate orders all unvaccinated people in the area, including a concentration of Orthodox Jews, to receive inoculations, including for children as young as 6 months old. Anyone who resists could be fined up to $1,000\"\"\")"
      ],
      "execution_count": 0,
      "outputs": []
    },
    {
      "cell_type": "code",
      "metadata": {
        "id": "yW54OM-LFiCI",
        "colab_type": "code",
        "colab": {},
        "outputId": "3ab22e0d-4fb1-4c70-b13a-3a09eaca569a"
      },
      "source": [
        "entities=[(i, i.label_, i.label)for i in nytimes.ents]\n",
        "entities\n",
        "       "
      ],
      "execution_count": 0,
      "outputs": [
        {
          "output_type": "execute_result",
          "data": {
            "text/plain": [
              "[(New York City, 'GPE', 382),\n",
              " (Tuesday, 'DATE', 388),\n",
              " (At least 285, 'CARDINAL', 394),\n",
              " (September, 'DATE', 388),\n",
              " (Brooklyn, 'GPE', 382),\n",
              " (Williamsburg, 'GPE', 382),\n",
              " (four, 'CARDINAL', 394),\n",
              " (Zip, 'PERSON', 378),\n",
              " (Bill de Blasio, 'PERSON', 378),\n",
              " (Tuesday, 'DATE', 388),\n",
              " (Orthodox Jews, 'NORP', 379),\n",
              " (6 months old, 'DATE', 388),\n",
              " (1,000, 'MONEY', 391)]"
            ]
          },
          "metadata": {
            "tags": []
          },
          "execution_count": 76
        }
      ]
    },
    {
      "cell_type": "code",
      "metadata": {
        "id": "xKy83lleFiCJ",
        "colab_type": "code",
        "colab": {},
        "outputId": "83106f9b-4a70-4762-f844-b635816393ec"
      },
      "source": [
        "displacy.render(nytimes, style = \"ent\", jupyter = True)"
      ],
      "execution_count": 0,
      "outputs": [
        {
          "output_type": "display_data",
          "data": {
            "text/html": [
              "<div class=\"entities\" style=\"line-height: 2.5\">\n",
              "<mark class=\"entity\" style=\"background: #feca74; padding: 0.45em 0.6em; margin: 0 0.25em; line-height: 1; border-radius: 0.35em; box-decoration-break: clone; -webkit-box-decoration-break: clone\">\n",
              "    New York City\n",
              "    <span style=\"font-size: 0.8em; font-weight: bold; line-height: 1; border-radius: 0.35em; text-transform: uppercase; vertical-align: middle; margin-left: 0.5rem\">GPE</span>\n",
              "</mark>\n",
              " on \n",
              "<mark class=\"entity\" style=\"background: #bfe1d9; padding: 0.45em 0.6em; margin: 0 0.25em; line-height: 1; border-radius: 0.35em; box-decoration-break: clone; -webkit-box-decoration-break: clone\">\n",
              "    Tuesday\n",
              "    <span style=\"font-size: 0.8em; font-weight: bold; line-height: 1; border-radius: 0.35em; text-transform: uppercase; vertical-align: middle; margin-left: 0.5rem\">DATE</span>\n",
              "</mark>\n",
              " declared a public health emergency and ordered mandatory measles vaccinations amid an outbreak, becoming the latest national flash point over refusals to inoculate against dangerous diseases. \n",
              "<mark class=\"entity\" style=\"background: #e4e7d2; padding: 0.45em 0.6em; margin: 0 0.25em; line-height: 1; border-radius: 0.35em; box-decoration-break: clone; -webkit-box-decoration-break: clone\">\n",
              "    At least 285\n",
              "    <span style=\"font-size: 0.8em; font-weight: bold; line-height: 1; border-radius: 0.35em; text-transform: uppercase; vertical-align: middle; margin-left: 0.5rem\">CARDINAL</span>\n",
              "</mark>\n",
              " people have contracted measles in the city since \n",
              "<mark class=\"entity\" style=\"background: #bfe1d9; padding: 0.45em 0.6em; margin: 0 0.25em; line-height: 1; border-radius: 0.35em; box-decoration-break: clone; -webkit-box-decoration-break: clone\">\n",
              "    September\n",
              "    <span style=\"font-size: 0.8em; font-weight: bold; line-height: 1; border-radius: 0.35em; text-transform: uppercase; vertical-align: middle; margin-left: 0.5rem\">DATE</span>\n",
              "</mark>\n",
              ", mostly in \n",
              "<mark class=\"entity\" style=\"background: #feca74; padding: 0.45em 0.6em; margin: 0 0.25em; line-height: 1; border-radius: 0.35em; box-decoration-break: clone; -webkit-box-decoration-break: clone\">\n",
              "    Brooklyn\n",
              "    <span style=\"font-size: 0.8em; font-weight: bold; line-height: 1; border-radius: 0.35em; text-transform: uppercase; vertical-align: middle; margin-left: 0.5rem\">GPE</span>\n",
              "</mark>\n",
              "’s \n",
              "<mark class=\"entity\" style=\"background: #feca74; padding: 0.45em 0.6em; margin: 0 0.25em; line-height: 1; border-radius: 0.35em; box-decoration-break: clone; -webkit-box-decoration-break: clone\">\n",
              "    Williamsburg\n",
              "    <span style=\"font-size: 0.8em; font-weight: bold; line-height: 1; border-radius: 0.35em; text-transform: uppercase; vertical-align: middle; margin-left: 0.5rem\">GPE</span>\n",
              "</mark>\n",
              " neighborhood. The order covers \n",
              "<mark class=\"entity\" style=\"background: #e4e7d2; padding: 0.45em 0.6em; margin: 0 0.25em; line-height: 1; border-radius: 0.35em; box-decoration-break: clone; -webkit-box-decoration-break: clone\">\n",
              "    four\n",
              "    <span style=\"font-size: 0.8em; font-weight: bold; line-height: 1; border-radius: 0.35em; text-transform: uppercase; vertical-align: middle; margin-left: 0.5rem\">CARDINAL</span>\n",
              "</mark>\n",
              " \n",
              "<mark class=\"entity\" style=\"background: #aa9cfc; padding: 0.45em 0.6em; margin: 0 0.25em; line-height: 1; border-radius: 0.35em; box-decoration-break: clone; -webkit-box-decoration-break: clone\">\n",
              "    Zip\n",
              "    <span style=\"font-size: 0.8em; font-weight: bold; line-height: 1; border-radius: 0.35em; text-transform: uppercase; vertical-align: middle; margin-left: 0.5rem\">PERSON</span>\n",
              "</mark>\n",
              " codes there, Mayor \n",
              "<mark class=\"entity\" style=\"background: #aa9cfc; padding: 0.45em 0.6em; margin: 0 0.25em; line-height: 1; border-radius: 0.35em; box-decoration-break: clone; -webkit-box-decoration-break: clone\">\n",
              "    Bill de Blasio\n",
              "    <span style=\"font-size: 0.8em; font-weight: bold; line-height: 1; border-radius: 0.35em; text-transform: uppercase; vertical-align: middle; margin-left: 0.5rem\">PERSON</span>\n",
              "</mark>\n",
              " (D) said \n",
              "<mark class=\"entity\" style=\"background: #bfe1d9; padding: 0.45em 0.6em; margin: 0 0.25em; line-height: 1; border-radius: 0.35em; box-decoration-break: clone; -webkit-box-decoration-break: clone\">\n",
              "    Tuesday\n",
              "    <span style=\"font-size: 0.8em; font-weight: bold; line-height: 1; border-radius: 0.35em; text-transform: uppercase; vertical-align: middle; margin-left: 0.5rem\">DATE</span>\n",
              "</mark>\n",
              ". The mandate orders all unvaccinated people in the area, including a concentration of \n",
              "<mark class=\"entity\" style=\"background: #c887fb; padding: 0.45em 0.6em; margin: 0 0.25em; line-height: 1; border-radius: 0.35em; box-decoration-break: clone; -webkit-box-decoration-break: clone\">\n",
              "    Orthodox Jews\n",
              "    <span style=\"font-size: 0.8em; font-weight: bold; line-height: 1; border-radius: 0.35em; text-transform: uppercase; vertical-align: middle; margin-left: 0.5rem\">NORP</span>\n",
              "</mark>\n",
              ", to receive inoculations, including for children as young as \n",
              "<mark class=\"entity\" style=\"background: #bfe1d9; padding: 0.45em 0.6em; margin: 0 0.25em; line-height: 1; border-radius: 0.35em; box-decoration-break: clone; -webkit-box-decoration-break: clone\">\n",
              "    6 months old\n",
              "    <span style=\"font-size: 0.8em; font-weight: bold; line-height: 1; border-radius: 0.35em; text-transform: uppercase; vertical-align: middle; margin-left: 0.5rem\">DATE</span>\n",
              "</mark>\n",
              ". Anyone who resists could be fined up to $\n",
              "<mark class=\"entity\" style=\"background: #e4e7d2; padding: 0.45em 0.6em; margin: 0 0.25em; line-height: 1; border-radius: 0.35em; box-decoration-break: clone; -webkit-box-decoration-break: clone\">\n",
              "    1,000\n",
              "    <span style=\"font-size: 0.8em; font-weight: bold; line-height: 1; border-radius: 0.35em; text-transform: uppercase; vertical-align: middle; margin-left: 0.5rem\">MONEY</span>\n",
              "</mark>\n",
              "</div>"
            ],
            "text/plain": [
              "<IPython.core.display.HTML object>"
            ]
          },
          "metadata": {
            "tags": []
          }
        }
      ]
    },
    {
      "cell_type": "code",
      "metadata": {
        "id": "yCwsZ7rEFiCL",
        "colab_type": "code",
        "colab": {}
      },
      "source": [
        "###Dependancy Parsing "
      ],
      "execution_count": 0,
      "outputs": []
    },
    {
      "cell_type": "code",
      "metadata": {
        "id": "xiXYn8xdFiCM",
        "colab_type": "code",
        "colab": {}
      },
      "source": [
        "###- language processing technique allowing us to determine the meaning of a sentence  by analyzing how its constructed to determine how the individual"
      ],
      "execution_count": 0,
      "outputs": []
    },
    {
      "cell_type": "code",
      "metadata": {
        "id": "uhIpewapFiCN",
        "colab_type": "code",
        "colab": {},
        "outputId": "24325255-3b63-4a12-fabe-ecdda17914ce"
      },
      "source": [
        "docp = nlp (\"In pursuit of a wall, President Trump ran into one.\")\n",
        "for chunk in docp.noun_chunks:\n",
        "        print(chunk.text, chunk.root.text, chunk.root.dep_,\n",
        "             chunk.root.head.text)"
      ],
      "execution_count": 0,
      "outputs": [
        {
          "output_type": "stream",
          "text": [
            "pursuit pursuit pobj In\n",
            "a wall wall pobj of\n",
            "President Trump Trump nsubj ran\n"
          ],
          "name": "stdout"
        }
      ]
    },
    {
      "cell_type": "code",
      "metadata": {
        "id": "hf2wl-tLFiCO",
        "colab_type": "code",
        "colab": {}
      },
      "source": [
        "##word vector representation "
      ],
      "execution_count": 0,
      "outputs": []
    },
    {
      "cell_type": "code",
      "metadata": {
        "id": "UJZuEFq1FiCR",
        "colab_type": "code",
        "colab": {}
      },
      "source": [
        "import en_core_web_sm"
      ],
      "execution_count": 0,
      "outputs": []
    },
    {
      "cell_type": "code",
      "metadata": {
        "id": "4I1kQBiSFiCS",
        "colab_type": "code",
        "colab": {}
      },
      "source": [
        "nlp = en_core_web_sm.load()"
      ],
      "execution_count": 0,
      "outputs": []
    },
    {
      "cell_type": "code",
      "metadata": {
        "id": "ioZABLsAFiCT",
        "colab_type": "code",
        "colab": {}
      },
      "source": [
        "mango = nlp(u'mango')"
      ],
      "execution_count": 0,
      "outputs": []
    },
    {
      "cell_type": "markdown",
      "metadata": {
        "id": "TcUa1QgQFiCU",
        "colab_type": "raw"
      },
      "source": [
        "print(mango.vector.shape)"
      ]
    },
    {
      "cell_type": "code",
      "metadata": {
        "id": "cjS4yltwFiCV",
        "colab_type": "code",
        "colab": {},
        "outputId": "fee440a8-b850-4135-ef93-81606ce72a0e"
      },
      "source": [
        "print(mango.vector)"
      ],
      "execution_count": 0,
      "outputs": [
        {
          "output_type": "stream",
          "text": [
            "[ 1.81897774e-01 -5.30110955e-01  2.66826391e+00  6.92421973e-01\n",
            " -1.97661090e+00  3.68705726e+00 -4.39795399e+00 -9.98800993e-01\n",
            "  4.40461993e-01  2.16392577e-01 -3.65440488e-01 -7.81092346e-02\n",
            " -2.61331797e-02 -2.29889154e+00 -4.02843028e-01  2.03411436e+00\n",
            " -1.13863659e+00 -2.47938967e+00 -6.85229659e-01  2.18901682e+00\n",
            "  2.21150327e+00  1.11644936e+00  1.71971530e-01  4.38695967e-01\n",
            " -1.64694953e+00 -4.35404658e-01 -3.02480996e-01  8.34270179e-01\n",
            " -1.12027848e+00  7.75547445e-01 -5.96542180e-01 -1.65593314e+00\n",
            "  5.41057348e-01 -3.40727836e-01 -3.47570151e-01  5.06468892e-01\n",
            "  3.71737957e-01 -9.64704514e-01 -8.57092083e-01  8.52468848e-01\n",
            " -3.29184222e+00  4.53452921e+00  2.02872336e-01 -1.16222560e-01\n",
            " -1.18046391e+00  4.02978599e-01 -5.31236649e-01 -9.04555917e-01\n",
            "  1.07802987e+00  3.54201555e-01 -1.02039969e+00 -1.33428931e+00\n",
            " -3.28955460e+00  6.58582807e-01 -4.01281625e-01  3.08272541e-01\n",
            "  4.82804203e+00 -1.29300475e+00 -2.84544349e+00 -1.12305391e+00\n",
            " -5.03154039e-01  1.29261422e+00 -3.30458021e+00  1.92081690e+00\n",
            "  7.14226961e-02 -2.02817535e+00  3.02123356e+00 -1.99166036e+00\n",
            " -1.92445636e+00  3.65125656e+00 -7.88051605e-01 -2.09680963e+00\n",
            "  1.03800702e+00  2.75186539e+00 -3.27485991e+00  6.57313287e-01\n",
            "  3.97891712e+00 -3.67220140e+00  7.39761710e-01 -9.89271641e-01\n",
            " -3.03037977e+00 -2.38147545e+00 -1.73317528e+00 -3.57437825e+00\n",
            "  4.55121458e-01  4.33675480e+00 -2.77815652e+00 -2.07637930e+00\n",
            " -1.25160480e+00  2.58834076e+00 -3.26153374e+00  6.09403944e+00\n",
            " -1.36440384e+00  1.02464128e+00 -1.50517404e-01  3.60381770e+00\n",
            " -1.35952020e+00  1.05655420e+00  1.22726309e+00 -1.07333422e+00\n",
            " -7.88497031e-01  1.68226242e+00  7.97820926e-01 -1.28441334e+00\n",
            "  8.94673467e-01  3.63392949e-01  3.12928510e+00 -1.75952983e+00\n",
            "  8.23560059e-01  2.09957647e+00 -8.17726314e-01  4.13140237e-01\n",
            "  1.59389400e+00 -3.03726912e+00  2.19724560e+00  3.42315102e+00\n",
            " -1.55573332e+00  3.52135897e-02  8.47541839e-02  1.31635261e+00\n",
            "  1.86057925e+00  6.17008030e-01  2.45746088e+00  1.90638554e+00\n",
            "  4.70227331e-01 -3.32388282e+00  2.17222142e+00  9.33573425e-01\n",
            " -6.93494558e-01 -2.62393355e-01 -1.22718513e-01 -2.37135887e-02\n",
            "  4.15046513e-02  4.12743837e-01 -4.31416988e-01  2.94759959e-01\n",
            "  4.02999640e-01 -1.58282340e-01  3.64514947e-01  1.92580193e-01\n",
            " -1.88358933e-01  1.66451156e-01 -4.40809637e-01 -1.75147235e-01\n",
            " -1.42322734e-01  3.36481422e-01  3.82769108e-01 -3.54398787e-01\n",
            " -6.59677088e-02  5.35994917e-02  8.40718225e-02  2.55516857e-01\n",
            " -1.21877164e-01 -4.92286265e-01 -3.85205001e-02 -2.57301390e-01\n",
            " -5.07925928e-01 -3.00415814e-01 -6.76144660e-03  1.46031439e-01\n",
            " -1.63864806e-01 -1.05807938e-01  2.70395577e-02 -3.53468567e-01\n",
            "  4.66952562e-01  6.27776086e-02  2.19426811e-01  2.43136227e-01\n",
            " -4.93172348e-01  1.57642394e-01 -2.49427348e-01 -5.73973000e-01\n",
            " -1.10988230e-01  1.64104909e-01  3.87997814e-02 -4.43924159e-01\n",
            " -4.71918583e-01  9.32887793e-02  4.06052947e-01 -6.08413182e-02\n",
            " -1.44426823e-01  4.62718666e-01 -1.18775874e-01  2.57674545e-01\n",
            "  3.71353328e-01 -2.28525013e-01  1.03940141e+00 -6.24903068e-02\n",
            "  5.51728129e-01  7.73812413e-01  1.06586576e+00  8.00271481e-02\n",
            "  4.40958917e-01 -2.56963000e-02 -2.73709625e-01  1.66169852e-02\n",
            "  4.76645350e-01  4.66467828e-01 -4.28537607e-01 -3.20914865e-01\n",
            "  1.35450470e+00 -3.00386190e-01  8.70562792e-02  1.88281536e-01\n",
            "  5.08369803e-01  6.17129579e-02  1.65950537e-01  1.44236296e-01\n",
            " -1.18160754e-01 -3.08414578e-01 -6.33658409e-01  1.18356690e-01\n",
            "  2.37848103e-01  4.97333795e-01 -1.40580535e+00 -1.82813287e-01\n",
            " -3.88159692e-01 -2.16752902e-01  5.49934506e-01 -1.12611860e-01\n",
            " -2.70864785e-01  1.36724472e-01 -2.38833159e-01 -5.85838914e-01\n",
            " -2.20475003e-01 -4.21669155e-01 -1.26343250e-01 -3.42552364e-01\n",
            " -2.03687996e-01  5.14922857e-01 -1.58258513e-01  7.78951705e-01\n",
            "  4.46085215e-01  3.27804953e-01 -8.85332048e-01  1.82527512e-01\n",
            " -4.95969713e-01  6.88712150e-02 -2.80571848e-01 -1.12974524e-01\n",
            "  1.66671813e-01 -4.95094806e-01  9.32842791e-01 -7.02028394e-01\n",
            " -2.24366829e-01  1.13637604e-01  3.54945362e-02  2.95113087e-01\n",
            " -2.96606272e-01 -6.32207394e-01 -2.89138585e-01  3.13882351e-01\n",
            " -4.87576574e-01  3.28630447e-01  1.39758229e-01  6.67375922e-01\n",
            " -6.47399500e-02 -4.02480543e-01  2.55680561e-01 -7.91377202e-02\n",
            " -3.99976969e-03 -6.14542305e-01 -1.16960019e-01 -2.63757348e-01\n",
            "  5.92833221e-01  3.13958526e-01 -5.62953711e-01 -4.80709881e-01\n",
            "  1.13148347e-01 -4.85704720e-01 -1.77754149e-01  5.40013134e-01\n",
            "  5.14276028e-01 -5.16304791e-01 -3.46898854e-01 -2.45012656e-01\n",
            "  3.64653394e-02  6.82460666e-02  1.22727334e+00 -3.44983011e-01\n",
            " -6.62144661e-01  4.81945962e-01 -6.31494224e-01  4.87313241e-01\n",
            " -3.08779985e-01 -1.94469213e-01 -3.63525152e-01 -1.87936530e-01\n",
            "  4.40233618e-01 -8.41976106e-02  1.71477765e-01  4.77934271e-01\n",
            "  7.13559985e-02  8.47315788e-01  3.99755895e-01 -5.00020564e-01\n",
            " -2.12733075e-01  1.61105409e-01 -2.87730962e-01 -4.50690061e-01\n",
            "  3.99116576e-01  7.37490058e-01  6.51046813e-01 -5.96693568e-02\n",
            " -1.36333287e-01 -9.41171467e-01  1.72643632e-01 -4.11249757e-01\n",
            " -7.36986399e-01  1.87736064e-01 -2.92779773e-01  2.43946165e-01\n",
            " -2.57863998e-01  3.73349428e-01  3.29287946e-01 -2.69238055e-02\n",
            "  6.48678243e-02  6.49811864e-01 -2.51772285e-01 -3.51187885e-01\n",
            " -1.99914604e-01  4.08295453e-01  1.17452778e-01  6.11444235e-01\n",
            "  2.82115713e-02 -2.51792550e-01 -1.47752792e-01 -4.42041993e-01\n",
            "  3.99909556e-01 -7.71714449e-02  2.03457624e-01 -2.95876443e-01\n",
            " -2.41324320e-01  3.54851902e-01 -7.12549686e-01 -3.68871808e-01\n",
            " -4.94893730e-01  1.86989382e-01 -1.25340939e-01 -1.36610314e-01\n",
            " -1.79864660e-01 -4.38465953e-01  2.51398653e-01 -8.97198096e-02\n",
            " -3.75749767e-01 -4.97022659e-01  2.68682539e-01  4.37748909e-01\n",
            " -2.14871764e-03 -3.66205245e-01 -4.71424878e-01 -2.49685049e-01\n",
            "  3.11205201e-02  7.81705201e-01  3.32701266e-01  6.57405496e-01\n",
            "  2.75393188e-01 -9.77010131e-02 -2.73272485e-01 -1.50915056e-01\n",
            " -1.20879233e+00  3.10617596e-01  1.93623319e-01  4.77042466e-01\n",
            " -9.32869375e-01  6.11542940e-01  1.11876285e+00 -2.75449157e-01\n",
            "  5.69001615e-01 -2.01143324e-01 -8.09958935e-01  8.68484855e-01\n",
            " -7.87356198e-02 -7.57152617e-01  3.80277395e-01  3.01620156e-01\n",
            " -3.22925635e-02 -2.40704045e-01 -1.48656741e-01  1.90181360e-01\n",
            " -1.12839170e-01 -1.87790424e-01  1.29857630e-01  2.80055583e-01]\n"
          ],
          "name": "stdout"
        }
      ]
    },
    {
      "cell_type": "code",
      "metadata": {
        "id": "MMj7XY8wFiCX",
        "colab_type": "code",
        "colab": {}
      },
      "source": [
        "####Section D : Text Classification"
      ],
      "execution_count": 0,
      "outputs": []
    },
    {
      "cell_type": "code",
      "metadata": {
        "id": "pmVIxV5NFiCY",
        "colab_type": "code",
        "colab": {}
      },
      "source": [
        "###Libraries for use on top of Spacy"
      ],
      "execution_count": 0,
      "outputs": []
    },
    {
      "cell_type": "code",
      "metadata": {
        "id": "0XKv9FmPFiCZ",
        "colab_type": "code",
        "colab": {}
      },
      "source": [
        "import pandas as pd"
      ],
      "execution_count": 0,
      "outputs": []
    },
    {
      "cell_type": "code",
      "metadata": {
        "id": "fxEUZ2GOFiCb",
        "colab_type": "code",
        "colab": {}
      },
      "source": [
        "from sklearn.feature_extraction.text import CountVectorizer"
      ],
      "execution_count": 0,
      "outputs": []
    },
    {
      "cell_type": "code",
      "metadata": {
        "id": "5f7lwv3uFiCc",
        "colab_type": "code",
        "colab": {}
      },
      "source": [
        "from sklearn.feature_extraction.text import TfidfVectorizer"
      ],
      "execution_count": 0,
      "outputs": []
    },
    {
      "cell_type": "code",
      "metadata": {
        "id": "4-1M14zjFiCd",
        "colab_type": "code",
        "colab": {}
      },
      "source": [
        "from sklearn.base import TransformerMixin"
      ],
      "execution_count": 0,
      "outputs": []
    },
    {
      "cell_type": "code",
      "metadata": {
        "id": "NkhuEKNFFiCe",
        "colab_type": "code",
        "colab": {}
      },
      "source": [
        "from sklearn.pipeline import Pipeline"
      ],
      "execution_count": 0,
      "outputs": []
    },
    {
      "cell_type": "code",
      "metadata": {
        "id": "gP-yeyUyFiCf",
        "colab_type": "code",
        "colab": {}
      },
      "source": [
        "###Loading Data from sklearn.base import TransformerMixin"
      ],
      "execution_count": 0,
      "outputs": []
    },
    {
      "cell_type": "code",
      "metadata": {
        "id": "77iMsEJPFiCg",
        "colab_type": "code",
        "colab": {}
      },
      "source": [
        "##Loading TSV File"
      ],
      "execution_count": 0,
      "outputs": []
    },
    {
      "cell_type": "code",
      "metadata": {
        "id": "I7jPZSNUFiCh",
        "colab_type": "code",
        "colab": {}
      },
      "source": [
        "df_amazon =pd.read_csv(\"C:/Users/melco/Desktop/ML/amazon_alexa.tsv\", sep=\"\\t\")"
      ],
      "execution_count": 0,
      "outputs": []
    },
    {
      "cell_type": "code",
      "metadata": {
        "id": "hSMLdD6OFiCi",
        "colab_type": "code",
        "colab": {}
      },
      "source": [
        "#Top 5 records "
      ],
      "execution_count": 0,
      "outputs": []
    },
    {
      "cell_type": "code",
      "metadata": {
        "id": "LeeZzpHNFiCk",
        "colab_type": "code",
        "colab": {},
        "outputId": "3f8305cc-0eb5-4af6-fa3c-5e50d7796265"
      },
      "source": [
        "df_amazon.head()"
      ],
      "execution_count": 0,
      "outputs": [
        {
          "output_type": "execute_result",
          "data": {
            "text/html": [
              "<div>\n",
              "<style scoped>\n",
              "    .dataframe tbody tr th:only-of-type {\n",
              "        vertical-align: middle;\n",
              "    }\n",
              "\n",
              "    .dataframe tbody tr th {\n",
              "        vertical-align: top;\n",
              "    }\n",
              "\n",
              "    .dataframe thead th {\n",
              "        text-align: right;\n",
              "    }\n",
              "</style>\n",
              "<table border=\"1\" class=\"dataframe\">\n",
              "  <thead>\n",
              "    <tr style=\"text-align: right;\">\n",
              "      <th></th>\n",
              "      <th>rating</th>\n",
              "      <th>date</th>\n",
              "      <th>variation</th>\n",
              "      <th>verified_reviews</th>\n",
              "      <th>feedback</th>\n",
              "    </tr>\n",
              "  </thead>\n",
              "  <tbody>\n",
              "    <tr>\n",
              "      <th>0</th>\n",
              "      <td>5</td>\n",
              "      <td>31-Jul-18</td>\n",
              "      <td>Charcoal Fabric</td>\n",
              "      <td>Love my Echo!</td>\n",
              "      <td>1</td>\n",
              "    </tr>\n",
              "    <tr>\n",
              "      <th>1</th>\n",
              "      <td>5</td>\n",
              "      <td>31-Jul-18</td>\n",
              "      <td>Charcoal Fabric</td>\n",
              "      <td>Loved it!</td>\n",
              "      <td>1</td>\n",
              "    </tr>\n",
              "    <tr>\n",
              "      <th>2</th>\n",
              "      <td>4</td>\n",
              "      <td>31-Jul-18</td>\n",
              "      <td>Walnut Finish</td>\n",
              "      <td>Sometimes while playing a game, you can answer...</td>\n",
              "      <td>1</td>\n",
              "    </tr>\n",
              "    <tr>\n",
              "      <th>3</th>\n",
              "      <td>5</td>\n",
              "      <td>31-Jul-18</td>\n",
              "      <td>Charcoal Fabric</td>\n",
              "      <td>I have had a lot of fun with this thing. My 4 ...</td>\n",
              "      <td>1</td>\n",
              "    </tr>\n",
              "    <tr>\n",
              "      <th>4</th>\n",
              "      <td>5</td>\n",
              "      <td>31-Jul-18</td>\n",
              "      <td>Charcoal Fabric</td>\n",
              "      <td>Music</td>\n",
              "      <td>1</td>\n",
              "    </tr>\n",
              "  </tbody>\n",
              "</table>\n",
              "</div>"
            ],
            "text/plain": [
              "   rating       date         variation  \\\n",
              "0       5  31-Jul-18  Charcoal Fabric    \n",
              "1       5  31-Jul-18  Charcoal Fabric    \n",
              "2       4  31-Jul-18    Walnut Finish    \n",
              "3       5  31-Jul-18  Charcoal Fabric    \n",
              "4       5  31-Jul-18  Charcoal Fabric    \n",
              "\n",
              "                                    verified_reviews  feedback  \n",
              "0                                      Love my Echo!         1  \n",
              "1                                          Loved it!         1  \n",
              "2  Sometimes while playing a game, you can answer...         1  \n",
              "3  I have had a lot of fun with this thing. My 4 ...         1  \n",
              "4                                              Music         1  "
            ]
          },
          "metadata": {
            "tags": []
          },
          "execution_count": 113
        }
      ]
    },
    {
      "cell_type": "code",
      "metadata": {
        "id": "OfVDyCtBFiCm",
        "colab_type": "code",
        "colab": {}
      },
      "source": [
        "#shape of dataframe"
      ],
      "execution_count": 0,
      "outputs": []
    },
    {
      "cell_type": "code",
      "metadata": {
        "id": "4eLrWGnhFiCo",
        "colab_type": "code",
        "colab": {},
        "outputId": "0025580b-1ae9-4fcb-c32b-d88166bb861e"
      },
      "source": [
        "df_amazon.shape"
      ],
      "execution_count": 0,
      "outputs": [
        {
          "output_type": "execute_result",
          "data": {
            "text/plain": [
              "(3150, 5)"
            ]
          },
          "metadata": {
            "tags": []
          },
          "execution_count": 115
        }
      ]
    },
    {
      "cell_type": "code",
      "metadata": {
        "id": "C7aDwtB8FiCp",
        "colab_type": "code",
        "colab": {}
      },
      "source": [
        "#View data information "
      ],
      "execution_count": 0,
      "outputs": []
    },
    {
      "cell_type": "code",
      "metadata": {
        "id": "5q67kBCGFiCq",
        "colab_type": "code",
        "colab": {},
        "outputId": "83194a18-71a0-42db-efb7-688b07fedde8"
      },
      "source": [
        "df_amazon.info()"
      ],
      "execution_count": 0,
      "outputs": [
        {
          "output_type": "stream",
          "text": [
            "<class 'pandas.core.frame.DataFrame'>\n",
            "RangeIndex: 3150 entries, 0 to 3149\n",
            "Data columns (total 5 columns):\n",
            " #   Column            Non-Null Count  Dtype \n",
            "---  ------            --------------  ----- \n",
            " 0   rating            3150 non-null   int64 \n",
            " 1   date              3150 non-null   object\n",
            " 2   variation         3150 non-null   object\n",
            " 3   verified_reviews  3150 non-null   object\n",
            " 4   feedback          3150 non-null   int64 \n",
            "dtypes: int64(2), object(3)\n",
            "memory usage: 123.2+ KB\n"
          ],
          "name": "stdout"
        }
      ]
    },
    {
      "cell_type": "code",
      "metadata": {
        "id": "EiZJ80leFiCs",
        "colab_type": "code",
        "colab": {}
      },
      "source": [
        "##Feedback Value Count "
      ],
      "execution_count": 0,
      "outputs": []
    },
    {
      "cell_type": "code",
      "metadata": {
        "id": "_fyxBo0nFiCs",
        "colab_type": "code",
        "colab": {},
        "outputId": "8b468fa1-c1a2-4a6f-d9be-1d23e47ff502"
      },
      "source": [
        "df_amazon.feedback.value_counts()"
      ],
      "execution_count": 0,
      "outputs": [
        {
          "output_type": "execute_result",
          "data": {
            "text/plain": [
              "1    2893\n",
              "0     257\n",
              "Name: feedback, dtype: int64"
            ]
          },
          "metadata": {
            "tags": []
          },
          "execution_count": 119
        }
      ]
    },
    {
      "cell_type": "code",
      "metadata": {
        "id": "r4FY5608FiCu",
        "colab_type": "code",
        "colab": {}
      },
      "source": [
        "###Tokening  the data with SpaCy"
      ],
      "execution_count": 0,
      "outputs": []
    },
    {
      "cell_type": "code",
      "metadata": {
        "id": "vzfQ_fYXFiCv",
        "colab_type": "code",
        "colab": {}
      },
      "source": [
        "import string \n",
        "from spacy.lang.en.stop_words import STOP_WORDS\n",
        "from spacy.lang.en import English"
      ],
      "execution_count": 0,
      "outputs": []
    },
    {
      "cell_type": "code",
      "metadata": {
        "id": "2IN9U_FSFiCv",
        "colab_type": "code",
        "colab": {}
      },
      "source": [
        "# Create our list of punctuation marks "
      ],
      "execution_count": 0,
      "outputs": []
    },
    {
      "cell_type": "code",
      "metadata": {
        "id": "ZSN53SA9FiCx",
        "colab_type": "code",
        "colab": {}
      },
      "source": [
        "punctuations = string.punctuation"
      ],
      "execution_count": 0,
      "outputs": []
    },
    {
      "cell_type": "code",
      "metadata": {
        "id": "wBvlq0BaFiCx",
        "colab_type": "code",
        "colab": {}
      },
      "source": [
        "#create our list of stopwords"
      ],
      "execution_count": 0,
      "outputs": []
    },
    {
      "cell_type": "code",
      "metadata": {
        "id": "axSFOemhFiCy",
        "colab_type": "code",
        "colab": {}
      },
      "source": [
        "nlp = spacy.load('en')\n",
        "stop_words = spacy.lang.en.stop_words.STOP_WORDS"
      ],
      "execution_count": 0,
      "outputs": []
    },
    {
      "cell_type": "code",
      "metadata": {
        "id": "nhbjYjI4FiCz",
        "colab_type": "code",
        "colab": {}
      },
      "source": [
        "# Load English tokenizer , tagger , parser , NER and word vectors"
      ],
      "execution_count": 0,
      "outputs": []
    },
    {
      "cell_type": "code",
      "metadata": {
        "id": "39O1eT3cFiC0",
        "colab_type": "code",
        "colab": {}
      },
      "source": [
        "parser = English()"
      ],
      "execution_count": 0,
      "outputs": []
    },
    {
      "cell_type": "code",
      "metadata": {
        "id": "KKE_a1iMFiC1",
        "colab_type": "code",
        "colab": {}
      },
      "source": [
        "# Creating our tekenizer function\n",
        "#creating our token object which is used to create documents with linguistic annotations \n",
        "#Lemmatizing each token and converting each token to lowercase \n",
        "#Removoing Stop Words\n",
        "#return preprocessed list of tokens"
      ],
      "execution_count": 0,
      "outputs": []
    },
    {
      "cell_type": "code",
      "metadata": {
        "id": "MGKZpVbZFiC2",
        "colab_type": "code",
        "colab": {}
      },
      "source": [
        "def spacy_tokenizer(sentence):\n",
        "    mytokens = parser(sentence)\n",
        "    mytokens = [word.lemma_.lower().strip()if word.lemma_!=\"-PRON\" else word.lower_ for word in mytokens]\n",
        "    mytokens = [ word for word in mytokens if word not in stop_words and word not in punctuations]\n",
        "    return mytokens"
      ],
      "execution_count": 0,
      "outputs": []
    },
    {
      "cell_type": "code",
      "metadata": {
        "id": "FDkW7VeBFiC4",
        "colab_type": "code",
        "colab": {}
      },
      "source": [
        "###Defining a custom Transformer"
      ],
      "execution_count": 0,
      "outputs": []
    },
    {
      "cell_type": "code",
      "metadata": {
        "id": "WVExYR4YFiC5",
        "colab_type": "code",
        "colab": {}
      },
      "source": [
        "#custom transformer using spaCy\n",
        "#Cleaning Text"
      ],
      "execution_count": 0,
      "outputs": []
    },
    {
      "cell_type": "code",
      "metadata": {
        "id": "n-EEdm88FiC6",
        "colab_type": "code",
        "colab": {}
      },
      "source": [
        "class predictors(TransformerMixin):\n",
        "    def transform(self, X , **transform_params):\n",
        "        \n",
        "        return[clean_text(text) for text in X]\n",
        "    \n",
        "    def fit(self, X, y=None, **fit_params):\n",
        "        return self\n",
        "\n",
        "    def get_params(self, deep=True):\n",
        "         return{}"
      ],
      "execution_count": 0,
      "outputs": []
    },
    {
      "cell_type": "code",
      "metadata": {
        "id": "DlC2ONNIFiC7",
        "colab_type": "code",
        "colab": {}
      },
      "source": [
        "##Basic function to clean text \n",
        "#Removing spaces and converting text into lowercase"
      ],
      "execution_count": 0,
      "outputs": []
    },
    {
      "cell_type": "code",
      "metadata": {
        "id": "xSPGKsAiFiC8",
        "colab_type": "code",
        "colab": {}
      },
      "source": [
        "def clean_text(text):\n",
        "    return text.strip().lower()"
      ],
      "execution_count": 0,
      "outputs": []
    },
    {
      "cell_type": "code",
      "metadata": {
        "id": "Y6MdO0DoFiC9",
        "colab_type": "code",
        "colab": {}
      },
      "source": [
        "####Vectotization Feature Engineering(TF-IDF)"
      ],
      "execution_count": 0,
      "outputs": []
    },
    {
      "cell_type": "code",
      "metadata": {
        "id": "-fFJPcU0FiC-",
        "colab_type": "code",
        "colab": {}
      },
      "source": [
        "bow_vector = CountVectorizer(tokenizer = spacy_tokenizer, ngram_range=(1,1))"
      ],
      "execution_count": 0,
      "outputs": []
    },
    {
      "cell_type": "code",
      "metadata": {
        "id": "UXVZu1WiFiC_",
        "colab_type": "code",
        "colab": {}
      },
      "source": [
        "tfidf_vector = TfidfVectorizer(tokenizer = spacy_tokenizer)"
      ],
      "execution_count": 0,
      "outputs": []
    },
    {
      "cell_type": "code",
      "metadata": {
        "id": "sBjwJwVeFiDA",
        "colab_type": "code",
        "colab": {}
      },
      "source": [
        "###Splitting Data ingto Training and Test Sets "
      ],
      "execution_count": 0,
      "outputs": []
    },
    {
      "cell_type": "code",
      "metadata": {
        "id": "fSRPtrzsFiDB",
        "colab_type": "code",
        "colab": {}
      },
      "source": [
        "from sklearn.model_selection import train_test_split\n",
        "X = df_amazon['verified_reviews'] # the features we want to analyze\n",
        "ylabels =df_amazon['feedback']# the labels, or answers , we want to test against\n",
        "\n",
        "X_train, X_test, y_train, y_test = train_test_split(X, ylabels, test_size=0.3)"
      ],
      "execution_count": 0,
      "outputs": []
    },
    {
      "cell_type": "code",
      "metadata": {
        "id": "2eUbnhY1FiDC",
        "colab_type": "code",
        "colab": {}
      },
      "source": [
        "###Creating a Pipeline and Generating the Model "
      ],
      "execution_count": 0,
      "outputs": []
    },
    {
      "cell_type": "code",
      "metadata": {
        "id": "_fhCVMAQFiDE",
        "colab_type": "code",
        "colab": {}
      },
      "source": [
        "#Logistic Regression Classifier"
      ],
      "execution_count": 0,
      "outputs": []
    },
    {
      "cell_type": "code",
      "metadata": {
        "id": "sLMiV-rjFiDF",
        "colab_type": "code",
        "colab": {}
      },
      "source": [
        "from sklearn.linear_model import LogisticRegression\n",
        "classifier = LogisticRegression()"
      ],
      "execution_count": 0,
      "outputs": []
    },
    {
      "cell_type": "code",
      "metadata": {
        "id": "8huEwLWQFiDG",
        "colab_type": "code",
        "colab": {}
      },
      "source": [
        ""
      ],
      "execution_count": 0,
      "outputs": []
    },
    {
      "cell_type": "code",
      "metadata": {
        "id": "llubzRHSFiDH",
        "colab_type": "code",
        "colab": {}
      },
      "source": [
        "###Create pipeline using Bag of Words"
      ],
      "execution_count": 0,
      "outputs": []
    },
    {
      "cell_type": "code",
      "metadata": {
        "id": "4ykkI22VFiDJ",
        "colab_type": "code",
        "colab": {}
      },
      "source": [
        "pipe = Pipeline([(\"cleaner\",predictors()),\n",
        "                ('vectorizer', bow_vector),\n",
        "                ('classifier', classifier)])"
      ],
      "execution_count": 0,
      "outputs": []
    },
    {
      "cell_type": "code",
      "metadata": {
        "id": "3UypiTBdFiDK",
        "colab_type": "code",
        "colab": {}
      },
      "source": [
        "##model generation"
      ],
      "execution_count": 0,
      "outputs": []
    },
    {
      "cell_type": "code",
      "metadata": {
        "id": "umeVZ6jfFiDK",
        "colab_type": "code",
        "colab": {},
        "outputId": "a3108ff3-eb30-47be-fbe1-57db8d691fce"
      },
      "source": [
        "pipe.fit(X_train,y_train)"
      ],
      "execution_count": 0,
      "outputs": [
        {
          "output_type": "execute_result",
          "data": {
            "text/plain": [
              "Pipeline(memory=None,\n",
              "         steps=[('cleaner', <__main__.predictors object at 0x0000026B33530E08>),\n",
              "                ('vectorizer',\n",
              "                 CountVectorizer(analyzer='word', binary=False,\n",
              "                                 decode_error='strict',\n",
              "                                 dtype=<class 'numpy.int64'>, encoding='utf-8',\n",
              "                                 input='content', lowercase=True, max_df=1.0,\n",
              "                                 max_features=None, min_df=1,\n",
              "                                 ngram_range=(1, 1), preprocessor=None,\n",
              "                                 stop_words=None, strip_accents=None,\n",
              "                                 token_pattern='(?u)\\\\b\\\\w\\\\w+\\\\b',\n",
              "                                 tokenizer=<function spacy_tokenizer at 0x0000026B2AA99678>,\n",
              "                                 vocabulary=None)),\n",
              "                ('classifier',\n",
              "                 LogisticRegression(C=1.0, class_weight=None, dual=False,\n",
              "                                    fit_intercept=True, intercept_scaling=1,\n",
              "                                    l1_ratio=None, max_iter=100,\n",
              "                                    multi_class='auto', n_jobs=None,\n",
              "                                    penalty='l2', random_state=None,\n",
              "                                    solver='lbfgs', tol=0.0001, verbose=0,\n",
              "                                    warm_start=False))],\n",
              "         verbose=False)"
            ]
          },
          "metadata": {
            "tags": []
          },
          "execution_count": 158
        }
      ]
    },
    {
      "cell_type": "code",
      "metadata": {
        "id": "wjCiBE72FiDM",
        "colab_type": "code",
        "colab": {}
      },
      "source": [
        "from sklearn import metrics"
      ],
      "execution_count": 0,
      "outputs": []
    },
    {
      "cell_type": "code",
      "metadata": {
        "id": "rgaLDoOnFiDO",
        "colab_type": "code",
        "colab": {}
      },
      "source": [
        "#predicting with a test data set"
      ],
      "execution_count": 0,
      "outputs": []
    },
    {
      "cell_type": "code",
      "metadata": {
        "id": "bSliUH84FiDQ",
        "colab_type": "code",
        "colab": {}
      },
      "source": [
        "predicted = pipe.predict(X_test)"
      ],
      "execution_count": 0,
      "outputs": []
    },
    {
      "cell_type": "code",
      "metadata": {
        "id": "3ITSQrxyFiDR",
        "colab_type": "code",
        "colab": {}
      },
      "source": [
        "#Model Accuracy"
      ],
      "execution_count": 0,
      "outputs": []
    },
    {
      "cell_type": "code",
      "metadata": {
        "id": "9asvXg7qFiDS",
        "colab_type": "code",
        "colab": {},
        "outputId": "8e2f12aa-b6e5-41ea-9f36-6c96f76ff809"
      },
      "source": [
        "print(\"Logistic Regression Accuracy:\", metrics.accuracy_score(y_test, predicted))\n",
        "print(\"Logistic Regression Precision:\",metrics.precision_score(y_test, predicted))\n",
        "print(\"Logistic Regression Recall:\", metrics.recall_score(y_test, predicted))"
      ],
      "execution_count": 0,
      "outputs": [
        {
          "output_type": "stream",
          "text": [
            "Logistic Regression Accuracy: 0.9375661375661376\n",
            "Logistic Regression Precision: 0.9442013129102844\n",
            "Logistic Regression Recall: 0.9908151549942594\n"
          ],
          "name": "stdout"
        }
      ]
    },
    {
      "cell_type": "code",
      "metadata": {
        "id": "H9pMf3S-FiDS",
        "colab_type": "code",
        "colab": {}
      },
      "source": [
        ""
      ],
      "execution_count": 0,
      "outputs": []
    }
  ]
}